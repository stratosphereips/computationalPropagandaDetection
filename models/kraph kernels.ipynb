{
 "cells": [
  {
   "cell_type": "code",
   "execution_count": 1,
   "id": "db66d12f",
   "metadata": {},
   "outputs": [],
   "source": [
    "import networkx as nx\n",
    "import grakel\n",
    "import pickle\n",
    "\n",
    "import numpy as np\n",
    "\n",
    "from sklearn.model_selection import KFold, StratifiedKFold\n",
    "import gklearn.kernels as kernels\n",
    "from sklearn import svm\n",
    "from grakel.utils import graph_from_networkx\n",
    "from grakel.kernels import WeisfeilerLehman, VertexHistogram\n",
    "\n",
    "from scipy import stats\n",
    "from utils import *"
   ]
  },
  {
   "cell_type": "code",
   "execution_count": 2,
   "id": "bf4b8f05",
   "metadata": {},
   "outputs": [],
   "source": [
    "pickle_name = 'nx_dataset.pickle'\n",
    "with open(pickle_name, 'rb') as f:\n",
    "    nx_train_set, nx_val_set, nx_test_set = pickle.load(f)\n",
    "\n",
    "\n",
    "nx_train_set = add_backward_edges(nx_train_set)\n",
    "nx_val_set = add_backward_edges(nx_val_set)\n",
    "nx_test_set = add_backward_edges(nx_test_set)\n",
    "\n",
    "nx_train_set = add_domain(nx_train_set)\n",
    "nx_val_set = add_domain(nx_val_set)\n",
    "nx_test_set = add_domain(nx_test_set)"
   ]
  },
  {
   "cell_type": "code",
   "execution_count": 3,
   "id": "2ccd7b03",
   "metadata": {},
   "outputs": [],
   "source": [
    "train_set = [g for g,_ in nx_train_set]\n",
    "val_set = [g for g,_ in nx_val_set]\n",
    "test_set = [g for g,_ in nx_test_set]\n",
    "\n",
    "    \n",
    "train_labels = np.asarray([l for _,l in nx_train_set])\n",
    "val_labels = np.asarray([l for _,l in nx_val_set])\n",
    "test_labels = np.asarray([l for _,l in nx_test_set])\n"
   ]
  },
  {
   "cell_type": "code",
   "execution_count": 4,
   "id": "16600b11",
   "metadata": {},
   "outputs": [],
   "source": [
    "def modify_graphs(dataset):\n",
    "    for g in dataset:\n",
    "        for e in g.edges:\n",
    "            print(e)\n",
    "            g.add_edge(e[1], e[0])\n",
    "    return dataset"
   ]
  },
  {
   "cell_type": "code",
   "execution_count": 5,
   "id": "c5e75f82",
   "metadata": {},
   "outputs": [],
   "source": [
    "splits=StratifiedKFold(n_splits=5,shuffle=True,random_state=42)\n"
   ]
  },
  {
   "cell_type": "code",
   "execution_count": 6,
   "id": "77ee3cd6",
   "metadata": {
    "scrolled": true
   },
   "outputs": [
    {
     "name": "stdout",
     "output_type": "stream",
     "text": [
      "{'name': 'random_walk', 'with_labels': False}  kernel noramlize  True\n"
     ]
    },
    {
     "name": "stderr",
     "output_type": "stream",
     "text": [
      "C:\\Users\\ondra\\anaconda3\\envs\\cp\\lib\\site-packages\\grakel\\kernels\\kernel.py:201: RuntimeWarning: invalid value encountered in sqrt\n",
      "  return km / np.sqrt(np.outer(self._X_diag, self._X_diag))\n",
      "C:\\Users\\ondra\\anaconda3\\envs\\cp\\lib\\site-packages\\grakel\\kernels\\kernel.py:166: RuntimeWarning: invalid value encountered in sqrt\n",
      "  km /= np.sqrt(np.outer(Y_diag, X_diag))\n"
     ]
    },
    {
     "ename": "ValueError",
     "evalue": "Input contains NaN, infinity or a value too large for dtype('float64').",
     "output_type": "error",
     "traceback": [
      "\u001b[1;31m---------------------------------------------------------------------------\u001b[0m",
      "\u001b[1;31mValueError\u001b[0m                                Traceback (most recent call last)",
      "\u001b[1;32m~\\AppData\\Local\\Temp/ipykernel_8080/3485702015.py\u001b[0m in \u001b[0;36m<module>\u001b[1;34m\u001b[0m\n\u001b[0;32m     24\u001b[0m \u001b[1;33m\u001b[0m\u001b[0m\n\u001b[0;32m     25\u001b[0m         \u001b[0msvc\u001b[0m \u001b[1;33m=\u001b[0m \u001b[0msvm\u001b[0m\u001b[1;33m.\u001b[0m\u001b[0mSVC\u001b[0m\u001b[1;33m(\u001b[0m\u001b[0mkernel\u001b[0m\u001b[1;33m=\u001b[0m\u001b[1;34m'precomputed'\u001b[0m\u001b[1;33m)\u001b[0m\u001b[1;33m\u001b[0m\u001b[1;33m\u001b[0m\u001b[0m\n\u001b[1;32m---> 26\u001b[1;33m         \u001b[0msvc\u001b[0m\u001b[1;33m.\u001b[0m\u001b[0mfit\u001b[0m\u001b[1;33m(\u001b[0m\u001b[0mkernel_train\u001b[0m\u001b[1;33m,\u001b[0m \u001b[0mtrn_labels\u001b[0m\u001b[1;33m)\u001b[0m\u001b[1;33m\u001b[0m\u001b[1;33m\u001b[0m\u001b[0m\n\u001b[0m\u001b[0;32m     27\u001b[0m         \u001b[0mnew_labels\u001b[0m \u001b[1;33m=\u001b[0m \u001b[0msvc\u001b[0m\u001b[1;33m.\u001b[0m\u001b[0mpredict\u001b[0m\u001b[1;33m(\u001b[0m\u001b[0mkernel_train\u001b[0m\u001b[1;33m)\u001b[0m\u001b[1;33m\u001b[0m\u001b[1;33m\u001b[0m\u001b[0m\n\u001b[0;32m     28\u001b[0m \u001b[1;33m\u001b[0m\u001b[0m\n",
      "\u001b[1;32m~\\anaconda3\\envs\\cp\\lib\\site-packages\\sklearn\\svm\\_base.py\u001b[0m in \u001b[0;36mfit\u001b[1;34m(self, X, y, sample_weight)\u001b[0m\n\u001b[0;32m    188\u001b[0m             \u001b[0mcheck_consistent_length\u001b[0m\u001b[1;33m(\u001b[0m\u001b[0mX\u001b[0m\u001b[1;33m,\u001b[0m \u001b[0my\u001b[0m\u001b[1;33m)\u001b[0m\u001b[1;33m\u001b[0m\u001b[1;33m\u001b[0m\u001b[0m\n\u001b[0;32m    189\u001b[0m         \u001b[1;32melse\u001b[0m\u001b[1;33m:\u001b[0m\u001b[1;33m\u001b[0m\u001b[1;33m\u001b[0m\u001b[0m\n\u001b[1;32m--> 190\u001b[1;33m             X, y = self._validate_data(\n\u001b[0m\u001b[0;32m    191\u001b[0m                 \u001b[0mX\u001b[0m\u001b[1;33m,\u001b[0m\u001b[1;33m\u001b[0m\u001b[1;33m\u001b[0m\u001b[0m\n\u001b[0;32m    192\u001b[0m                 \u001b[0my\u001b[0m\u001b[1;33m,\u001b[0m\u001b[1;33m\u001b[0m\u001b[1;33m\u001b[0m\u001b[0m\n",
      "\u001b[1;32m~\\anaconda3\\envs\\cp\\lib\\site-packages\\sklearn\\base.py\u001b[0m in \u001b[0;36m_validate_data\u001b[1;34m(self, X, y, reset, validate_separately, **check_params)\u001b[0m\n\u001b[0;32m    574\u001b[0m                 \u001b[0my\u001b[0m \u001b[1;33m=\u001b[0m \u001b[0mcheck_array\u001b[0m\u001b[1;33m(\u001b[0m\u001b[0my\u001b[0m\u001b[1;33m,\u001b[0m \u001b[1;33m**\u001b[0m\u001b[0mcheck_y_params\u001b[0m\u001b[1;33m)\u001b[0m\u001b[1;33m\u001b[0m\u001b[1;33m\u001b[0m\u001b[0m\n\u001b[0;32m    575\u001b[0m             \u001b[1;32melse\u001b[0m\u001b[1;33m:\u001b[0m\u001b[1;33m\u001b[0m\u001b[1;33m\u001b[0m\u001b[0m\n\u001b[1;32m--> 576\u001b[1;33m                 \u001b[0mX\u001b[0m\u001b[1;33m,\u001b[0m \u001b[0my\u001b[0m \u001b[1;33m=\u001b[0m \u001b[0mcheck_X_y\u001b[0m\u001b[1;33m(\u001b[0m\u001b[0mX\u001b[0m\u001b[1;33m,\u001b[0m \u001b[0my\u001b[0m\u001b[1;33m,\u001b[0m \u001b[1;33m**\u001b[0m\u001b[0mcheck_params\u001b[0m\u001b[1;33m)\u001b[0m\u001b[1;33m\u001b[0m\u001b[1;33m\u001b[0m\u001b[0m\n\u001b[0m\u001b[0;32m    577\u001b[0m             \u001b[0mout\u001b[0m \u001b[1;33m=\u001b[0m \u001b[0mX\u001b[0m\u001b[1;33m,\u001b[0m \u001b[0my\u001b[0m\u001b[1;33m\u001b[0m\u001b[1;33m\u001b[0m\u001b[0m\n\u001b[0;32m    578\u001b[0m \u001b[1;33m\u001b[0m\u001b[0m\n",
      "\u001b[1;32m~\\anaconda3\\envs\\cp\\lib\\site-packages\\sklearn\\utils\\validation.py\u001b[0m in \u001b[0;36mcheck_X_y\u001b[1;34m(X, y, accept_sparse, accept_large_sparse, dtype, order, copy, force_all_finite, ensure_2d, allow_nd, multi_output, ensure_min_samples, ensure_min_features, y_numeric, estimator)\u001b[0m\n\u001b[0;32m    954\u001b[0m         \u001b[1;32mraise\u001b[0m \u001b[0mValueError\u001b[0m\u001b[1;33m(\u001b[0m\u001b[1;34m\"y cannot be None\"\u001b[0m\u001b[1;33m)\u001b[0m\u001b[1;33m\u001b[0m\u001b[1;33m\u001b[0m\u001b[0m\n\u001b[0;32m    955\u001b[0m \u001b[1;33m\u001b[0m\u001b[0m\n\u001b[1;32m--> 956\u001b[1;33m     X = check_array(\n\u001b[0m\u001b[0;32m    957\u001b[0m         \u001b[0mX\u001b[0m\u001b[1;33m,\u001b[0m\u001b[1;33m\u001b[0m\u001b[1;33m\u001b[0m\u001b[0m\n\u001b[0;32m    958\u001b[0m         \u001b[0maccept_sparse\u001b[0m\u001b[1;33m=\u001b[0m\u001b[0maccept_sparse\u001b[0m\u001b[1;33m,\u001b[0m\u001b[1;33m\u001b[0m\u001b[1;33m\u001b[0m\u001b[0m\n",
      "\u001b[1;32m~\\anaconda3\\envs\\cp\\lib\\site-packages\\sklearn\\utils\\validation.py\u001b[0m in \u001b[0;36mcheck_array\u001b[1;34m(array, accept_sparse, accept_large_sparse, dtype, order, copy, force_all_finite, ensure_2d, allow_nd, ensure_min_samples, ensure_min_features, estimator)\u001b[0m\n\u001b[0;32m    790\u001b[0m \u001b[1;33m\u001b[0m\u001b[0m\n\u001b[0;32m    791\u001b[0m         \u001b[1;32mif\u001b[0m \u001b[0mforce_all_finite\u001b[0m\u001b[1;33m:\u001b[0m\u001b[1;33m\u001b[0m\u001b[1;33m\u001b[0m\u001b[0m\n\u001b[1;32m--> 792\u001b[1;33m             \u001b[0m_assert_all_finite\u001b[0m\u001b[1;33m(\u001b[0m\u001b[0marray\u001b[0m\u001b[1;33m,\u001b[0m \u001b[0mallow_nan\u001b[0m\u001b[1;33m=\u001b[0m\u001b[0mforce_all_finite\u001b[0m \u001b[1;33m==\u001b[0m \u001b[1;34m\"allow-nan\"\u001b[0m\u001b[1;33m)\u001b[0m\u001b[1;33m\u001b[0m\u001b[1;33m\u001b[0m\u001b[0m\n\u001b[0m\u001b[0;32m    793\u001b[0m \u001b[1;33m\u001b[0m\u001b[0m\n\u001b[0;32m    794\u001b[0m     \u001b[1;32mif\u001b[0m \u001b[0mensure_min_samples\u001b[0m \u001b[1;33m>\u001b[0m \u001b[1;36m0\u001b[0m\u001b[1;33m:\u001b[0m\u001b[1;33m\u001b[0m\u001b[1;33m\u001b[0m\u001b[0m\n",
      "\u001b[1;32m~\\anaconda3\\envs\\cp\\lib\\site-packages\\sklearn\\utils\\validation.py\u001b[0m in \u001b[0;36m_assert_all_finite\u001b[1;34m(X, allow_nan, msg_dtype)\u001b[0m\n\u001b[0;32m    112\u001b[0m         ):\n\u001b[0;32m    113\u001b[0m             \u001b[0mtype_err\u001b[0m \u001b[1;33m=\u001b[0m \u001b[1;34m\"infinity\"\u001b[0m \u001b[1;32mif\u001b[0m \u001b[0mallow_nan\u001b[0m \u001b[1;32melse\u001b[0m \u001b[1;34m\"NaN, infinity\"\u001b[0m\u001b[1;33m\u001b[0m\u001b[1;33m\u001b[0m\u001b[0m\n\u001b[1;32m--> 114\u001b[1;33m             raise ValueError(\n\u001b[0m\u001b[0;32m    115\u001b[0m                 msg_err.format(\n\u001b[0;32m    116\u001b[0m                     \u001b[0mtype_err\u001b[0m\u001b[1;33m,\u001b[0m \u001b[0mmsg_dtype\u001b[0m \u001b[1;32mif\u001b[0m \u001b[0mmsg_dtype\u001b[0m \u001b[1;32mis\u001b[0m \u001b[1;32mnot\u001b[0m \u001b[1;32mNone\u001b[0m \u001b[1;32melse\u001b[0m \u001b[0mX\u001b[0m\u001b[1;33m.\u001b[0m\u001b[0mdtype\u001b[0m\u001b[1;33m\u001b[0m\u001b[1;33m\u001b[0m\u001b[0m\n",
      "\u001b[1;31mValueError\u001b[0m: Input contains NaN, infinity or a value too large for dtype('float64')."
     ]
    }
   ],
   "source": [
    "params = [\n",
    "#           ({'name':'shortest_path', 'with_labels':True}, True),\n",
    "          ({'name':'random_walk', 'with_labels':False}, True),\n",
    "          ({'name':'random_walk', 'with_labels':True}, True),\n",
    "          ({'name':'weisfeiler_lehman_optimal_assignment'},  True),\n",
    "          ({'name':'weisfeiler_lehman'},  True),\n",
    "          ({'name':'hadamard_code'},  True),\n",
    "         ]\n",
    "results = np.zeros((2, 5, len(params)))\n",
    "knn_results = np.zeros((5, len(params)))\n",
    "for i, (p, normalize) in enumerate(params):\n",
    "    kernel = grakel.GraphKernel(p)\n",
    "    print(kernel.kernel, \" kernel noramlize \", normalize)\n",
    "    \n",
    "    for j, (trn, val) in enumerate(splits.split(train_set, train_labels)):\n",
    "        trn_set = graph_from_networkx([train_set[i] for i in trn], 'level')\n",
    "        trn_labels = np.asarray([train_labels[i] for i in trn])\n",
    "        split_val_set = graph_from_networkx([train_set[i] for i in val], 'level')\n",
    "        split_val_labels = np.asarray([train_labels[i] for i in val])\n",
    "        kernel = grakel.GraphKernel(p, normalize=normalize)\n",
    "        \n",
    "        kernel_train = kernel.fit_transform(trn_set)\n",
    "                                            \n",
    "        kernel_val = kernel.transform(split_val_set)\n",
    "        \n",
    "        svc = svm.SVC(kernel='precomputed')\n",
    "        svc.fit(kernel_train, trn_labels)\n",
    "        new_labels = svc.predict(kernel_train)\n",
    "\n",
    "        train_accuracy = (new_labels == trn_labels).mean()\n",
    "\n",
    "        new_labels = svc.predict(kernel_val)\n",
    "\n",
    "        val_accuracy = (new_labels == split_val_labels).mean()\n",
    "        results[0, j, i] = train_accuracy\n",
    "        results[1, j, i] = val_accuracy\n",
    "        print(\"Training accuracy: {:.2f}%, validation acc {:.2f}%\".format(100*train_accuracy, 100*val_accuracy))\n",
    "    "
   ]
  },
  {
   "cell_type": "code",
   "execution_count": null,
   "id": "0bce9399",
   "metadata": {},
   "outputs": [],
   "source": [
    "best_params_id = results[1].mean(0).argmax()\n",
    "print(f'best model is: {params[best_params_id]} with mean validation acc {100*results[1].mean(0).max()} %')\n",
    "best_model, normalize = params[best_params_id]"
   ]
  },
  {
   "cell_type": "code",
   "execution_count": null,
   "id": "378496a2",
   "metadata": {},
   "outputs": [],
   "source": []
  },
  {
   "cell_type": "code",
   "execution_count": null,
   "id": "73fbef9a",
   "metadata": {},
   "outputs": [],
   "source": [
    "# weisfeiler_lehman_optimal_assignment is found by the CV, I did grid search manually \n",
    "new_params = [\n",
    "    ({'name': 'weisfeiler_lehman_optimal_assignment', 'n_iter':1}, True, 0.1), \n",
    "    ({'name': 'weisfeiler_lehman_optimal_assignment', 'n_iter':2}, True, 0.1), \n",
    "    ({'name': 'weisfeiler_lehman_optimal_assignment', 'n_iter':3}, True, 0.1), \n",
    "    ({'name': 'weisfeiler_lehman_optimal_assignment', 'n_iter':5}, True, 0.1), \n",
    "    ({'name': 'weisfeiler_lehman_optimal_assignment', 'n_iter':1}, True, 0.5), \n",
    "    ({'name': 'weisfeiler_lehman_optimal_assignment', 'n_iter':2}, True, 0.5), \n",
    "    ({'name': 'weisfeiler_lehman_optimal_assignment', 'n_iter':3}, True, 0.5), \n",
    "    ({'name': 'weisfeiler_lehman_optimal_assignment', 'n_iter':5}, True, 0.5),\n",
    "    ({'name': 'weisfeiler_lehman_optimal_assignment', 'n_iter':1}, True, 1), \n",
    "    ({'name': 'weisfeiler_lehman_optimal_assignment', 'n_iter':2}, True, 1), \n",
    "    ({'name': 'weisfeiler_lehman_optimal_assignment', 'n_iter':3}, True, 1), \n",
    "    ({'name': 'weisfeiler_lehman_optimal_assignment', 'n_iter':5}, True, 1), \n",
    "    ({'name': 'weisfeiler_lehman_optimal_assignment', 'n_iter':1}, True, 2), \n",
    "    ({'name': 'weisfeiler_lehman_optimal_assignment', 'n_iter':2}, True, 2), \n",
    "    ({'name': 'weisfeiler_lehman_optimal_assignment', 'n_iter':3}, True, 2), \n",
    "    ({'name': 'weisfeiler_lehman_optimal_assignment', 'n_iter':5}, True, 2), \n",
    "    ({'name': 'weisfeiler_lehman_optimal_assignment', 'n_iter':1}, True, 5), \n",
    "    ({'name': 'weisfeiler_lehman_optimal_assignment', 'n_iter':2}, True, 5), \n",
    "    ({'name': 'weisfeiler_lehman_optimal_assignment', 'n_iter':3}, True, 5), \n",
    "    ({'name': 'weisfeiler_lehman_optimal_assignment', 'n_iter':5}, True, 5), \n",
    "    ({'name': 'weisfeiler_lehman_optimal_assignment', 'n_iter':1}, True, 10), \n",
    "    ({'name': 'weisfeiler_lehman_optimal_assignment', 'n_iter':2}, True, 10), \n",
    "    ({'name': 'weisfeiler_lehman_optimal_assignment', 'n_iter':3}, True, 10), \n",
    "    ({'name': 'weisfeiler_lehman_optimal_assignment', 'n_iter':5}, True, 10),\n",
    "]"
   ]
  },
  {
   "cell_type": "code",
   "execution_count": null,
   "id": "8fa8eba9",
   "metadata": {
    "scrolled": false
   },
   "outputs": [],
   "source": [
    "results = np.zeros((2, 5, len(new_params)))\n",
    "for i, (p, normalize, c) in enumerate(new_params):\n",
    "    print(kernel.kernel, \" kernel noramlize \", normalize, \"C: \", c)\n",
    "    \n",
    "    for j, (trn, val) in enumerate(splits.split(train_set, train_labels)):\n",
    "        trn_set = graph_from_networkx([train_set[i] for i in trn], 'level')\n",
    "        trn_labels = np.asarray([train_labels[i] for i in trn])\n",
    "        val_set = graph_from_networkx([train_set[i] for i in val], 'level')\n",
    "        val_labels = np.asarray([train_labels[i] for i in val])\n",
    "        kernel = grakel.GraphKernel(p, normalize=normalize)\n",
    "        \n",
    "        kernel_train = kernel.fit_transform(trn_set)\n",
    "\n",
    "        kernel_val = kernel.transform(val_set)\n",
    "        \n",
    "        svc = svm.SVC(kernel='precomputed', C=c)\n",
    "        svc.fit(kernel_train, trn_labels)\n",
    "        new_labels = svc.predict(kernel_train)\n",
    "\n",
    "        train_accuracy = (new_labels == trn_labels).mean()\n",
    "\n",
    "        new_labels = svc.predict(kernel_val)\n",
    "\n",
    "        val_accuracy = (new_labels == val_labels).mean()\n",
    "        results[0, j, i] = train_accuracy\n",
    "        results[1, j, i] = val_accuracy\n",
    "        print(\"Training accuracy: {:.2f}%, validation acc {:.2f}%\".format(100*train_accuracy, 100*val_accuracy))\n",
    "    "
   ]
  },
  {
   "cell_type": "code",
   "execution_count": null,
   "id": "81b8f7eb",
   "metadata": {},
   "outputs": [],
   "source": [
    "best_params_id = results[1].mean(0).argmax()\n",
    "best_mean_val = results[1].mean(0).max()\n",
    "best_params = new_params[best_params_id]\n",
    "print('best parameters are {}, C {} which achieved {:.2f}% mean val acc'.format(best_params[0], best_params[2], best_mean_val))"
   ]
  },
  {
   "cell_type": "code",
   "execution_count": null,
   "id": "d9853982",
   "metadata": {},
   "outputs": [],
   "source": [
    "trn_set = graph_from_networkx([g for g in train_set], 'level')\n",
    "val_set = graph_from_networkx([g for g in val_set], 'level')\n",
    "\n",
    "tst_set = graph_from_networkx([g for g in test_set], 'level')\n",
    "kernel = grakel.GraphKernel(best_params[0], normalize=best_params[1])\n",
    "kernel_train = kernel.fit_transform(trn_set)\n",
    "kernel_test = kernel.transform(tst_set)\n",
    "\n",
    "svc = svm.SVC(kernel='precomputed', C=best_params[2])\n",
    "svc.fit(kernel_train, train_labels)\n",
    "prediction = svc.predict(kernel_test)\n",
    "test_accuracy = (prediction == test_labels).mean()\n",
    "print('best model test acc is {:.2f}%'.format(100*test_accuracy))"
   ]
  },
  {
   "cell_type": "code",
   "execution_count": null,
   "id": "d6fda080",
   "metadata": {},
   "outputs": [],
   "source": []
  },
  {
   "cell_type": "code",
   "execution_count": null,
   "id": "826999c2",
   "metadata": {},
   "outputs": [],
   "source": []
  }
 ],
 "metadata": {
  "kernelspec": {
   "display_name": "Python 3 (ipykernel)",
   "language": "python",
   "name": "python3"
  },
  "language_info": {
   "codemirror_mode": {
    "name": "ipython",
    "version": 3
   },
   "file_extension": ".py",
   "mimetype": "text/x-python",
   "name": "python",
   "nbconvert_exporter": "python",
   "pygments_lexer": "ipython3",
   "version": "3.8.12"
  }
 },
 "nbformat": 4,
 "nbformat_minor": 5
}
