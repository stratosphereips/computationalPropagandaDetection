{
 "cells": [
  {
   "cell_type": "code",
   "execution_count": 7,
   "id": "34e52a7b",
   "metadata": {},
   "outputs": [],
   "source": [
    "import os\n",
    "import sys\n",
    "os.chdir(\"\\\\\".join(os.getcwd().split('\\\\')[:-2]))\n",
    "\n",
    "import numpy as np\n",
    "from DB.propaganda_db import DB\n",
    "from pyvis.network import Network\n",
    "from graph import filter_name\n",
    "\n",
    "\n",
    "all_urls=['PLACEHOLDER TO INDEX FROM 1',\n",
    "\"https://www.fondsk.ru/news/2020/03/25/borba-s-koronavirusom-i-bolshoj-brat-50441.html\"\n",
    ",\"https://news-front.info/2020/08/28/rodion-miroshnik-kiev-na-belorussii-zarabatyvaet-bochku-varenya-i-korzinu-pechenya/\"\n",
    ",\"https://rnbee.ru/post-wall/pozhilym-ukraincam-otkazyvajut-v-ispolzovanii-ivl-pri-koronaviruse/\"\n",
    ",\"https://forum.bakililar.az/topic/206228-%D0%B2-%D0%B0%D0%BB%D0%BC%D0%B0%D1%82%D1%8B-%D0%BF%D1%80%D0%B8%D0%B7%D0%BD%D0%B0%D0%BB%D0%B8%D1%81%D1%8C-%D0%B2-%D1%80%D0%B0%D0%B1%D0%BE%D1%82%D0%B5-%D0%BD%D0%B0%D0%B4-%D0%BA%D0%BE%D1%80%D0%BE%D0%BD%D0%B0%D0%B2%D0%B8%D1%80%D1%83%D1%81%D0%BE%D0%BC-%D0%B4%D0%BE-%D1%8D%D0%BF%D0%B8%D0%B4%D0%B5%D0%BC%D0%B8%D0%B8/\"\n",
    ",\"https://oko-planet.su/politik/politiklist/549229-novyy-migracionnyy-krizis-evropa-ne-gotova.html\"\n",
    ",\"https://www.change.org/p/the-international-olympic-committee-petition-to-relocate-the-2018-winter-olympics-from-south-korea\"\n",
    ",\"https://rnbee.ru/2019/12/18/evropejskaja-solidarnost-v-dejstvii-es-stroit-novye-centry-razmeshhenija-migrantov-v-jestonii/\"\n",
    ",\"https://sputnik-meedia.ee/opinion/20210516/467903/Nepriglyadnoe-litso-pochemu-demokraticheskaya-Estoniya-teryaet-lyudey.html\"\n",
    ",\"https://bgr.news-front.info/2021/04/28/volodin-koronavirust-e-delo-na-amerikanska-laboratoriya/\"\n",
    ",\"https://de.rt.com/programme/fasbender/116504-exklusiv-interview-mit-aussenamtssprecherin-maria/\"\n",
    ",\"https://eadaily.com/ru/news/2021/04/27/volodin-zapad-dolzhen-kompensirovat-rossii-ushcherb-ot-pandemii-covid-19\"\n",
    ",\"https://russian.rt.com/ussr/news/859197-gosduma-zelenskii-krym-donbass\"\n",
    ",\"https://mundo.sputniknews.com/20210611/la-linea-roja-como-las-ansias-de-unirse-a-la-otan-podrian-acabar-con-la-independencia-de-ucrania-1113130920.html\"\n",
    ",\"https://tsargrad.tv/articles/poddelka-pod-kolumbajn-kto-na-samom-dele-splaniroval-krovavuju-bojnju-v-kazani_353659\"\n",
    ",\"https://sputnik-ossetia.ru/South_Ossetia/20210511/12200003/Dopolnitelnaya-napryazhennost-yugoosetinskiy-ekspert-ob-ucheniyakh-NATO-v-Gruzii.html\"\n",
    ",\"https://sputnik.by/columnists/20210504/1047548484/Ot-illyuziy-k-obvineniyam-i-obratno-kak-Zapad-to-stroit-to-rushit-otnosheniya-s-RF.html\"\n",
    ",\"https://pl.sputniknews.com/opinie/2021051314268911-rosja-odtajnila-dokumenty-z-wiosny-1945-roku-nie-wszystkim-w-polsce-to-sie-podoba-Sputnik/\"\n",
    ",\"https://sputnik-ossetia.ru/radio/20210513/12214396/Ugroza-zhizni-zachem-Pentagonu-biolaboratorii-v-Gruzii.html\"\n",
    ",\"https://news-front.info/2021/05/12/finskij-politolog-zayavil-chto-ukrainy-kak-gosudarstva-ne-sushhestvuet/\"\n",
    ",\"https://asd.news/news/v-sovbeze-rossii-schitayut-chto-kiev-mozhet-poyti-na-voennuyu-avantyuru-v-krymu-s-pozvoleniya-ssha/\"\n",
    ",\"https://ipress.ua/ru/news/ukrayna_vvedet_tsyfrovie_covidsertyfykati_cherez_1014_dney_posle_es_323316.html\"\n",
    ",\"http://inpress.ua/ru/economics/65943-rf-zayavlyaet-chto-skoro-dostroit-i-zapustit-gazoprovod-severnyy-potok2\"\n",
    ",\"https://www.state.gov/united-states-trains-ukraine-to-identify-and-respond-to-the-use-of-weapons-of-mass-destruction-in-targeted-assassinations/\"\n",
    ",\"https://www.usaid.gov/news-information/press-releases/jun-4-2021-usaid-announces-57-million-urgent-tuberculosis-recovery-effort-seven-countries\"\n",
    ",\"https://www.bbc.com/news/science-environment-52318539\"\n",
    ",\"https://www.washingtonpost.com/politics/2020/05/01/was-new-coronavirus-accidentally-released-wuhan-lab-its-doubtful/\"\n",
    ",\"https://www.hindustantimes.com/world-news/us-asks-russia-to-explain-provocations-on-ukraine-border-state-department-101617645462774.html\"\n",
    ",\"https://www.reuters.com/world/europe/ukraine-says-it-could-be-provoked-by-russian-aggression-conflict-area-2021-04-10/\"\n",
    ",\"https://edition.cnn.com/2021/04/08/politics/ukraine-us-black-sea/index.html\"\n",
    ",\"https://www.cfr.org/backgrounder/ukraine-conflict-crossroads-europe-and-russia\"\n",
    ",\"https://m.economictimes.com/news/international/world-news/how-the-united-states-beat-the-coronavirus-variants-for-now/articleshow/82652253.cms\"\n",
    ",\"https://www.infomigrants.net/en/post/25880/germany-has-taken-nearly-10-000-migrants-under-eu-turkey-deal-since-2016-report\"\n",
    ",\"https://www.dw.com/en/uks-new-immigration-system-to-shut-door-on-low-skilled-eu-workers/a-52428669\"\n",
    ",\"https://www.voanews.com/africa/escalating-violence-libya-sends-migrants-fleeing-europe\"\n",
    ",\"https://abcnews.go.com/International/wireStory/eu-concerned-greek-anti-migrant-sound-cannon-78063237\"\n",
    ",\"https://gizmodo.com/u-s-hits-russia-with-heavy-sanctions-over-solarwinds-h-1846689148\"\n",
    ",\"https://edition.cnn.com/2021/06/11/europe/dmitry-peskov-putin-biden-summit-intl/index.html\"\n",
    ",\"https://www.rferl.org/a/nord-stream-2-is-russia-bad-deal-for-europe-also-a-done-deal-/31096487.html\"\n",
    ",\"https://www.reuters.com/article/us-health-coronavirus-eu-sputnik-idUSKBN2B91PP\"\n",
    ",\"https://www.intellinews.com/putin-promises-to-make-russians-lives-better-in-his-state-of-the-nation-speech-but-adds-threats-to-the-west-208696/\"\n",
    "]"
   ]
  },
  {
   "cell_type": "code",
   "execution_count": 8,
   "id": "1f0c3ca1",
   "metadata": {},
   "outputs": [],
   "source": [
    "for idx in range(1, 41):\n",
    "    url = all_urls[idx]\n",
    "    db = DB(f\"DB/v1/propaganda.{idx}.db\")\n",
    "    edges, nodes = db.get_tree(url)\n",
    "\n",
    "    centers = {filter_name(url):(nodes[url][1], [n for n in nodes.keys() if filter_name(n) == filter_name(url)]) for url in list(nodes.keys())[::-1]}\n",
    "\n",
    "\n",
    "    from_to_edges = dict()\n",
    "    for _, source, target, _ in edges:\n",
    "        filtered_source, filtered_target = filter_name(source), filter_name(target)\n",
    "        if filtered_source not in from_to_edges:\n",
    "            from_to_edges[filtered_source] = []\n",
    "        from_to_edges[filtered_source].append(filtered_target)\n",
    "\n",
    "\n",
    "\n",
    "    colors=[\"red\", \"blue\", \"green\"]\n",
    "    # colors=[\"#906090\",\"#906090\", \"#906090\"]\n",
    "    g = Network('700px', '1500',notebook=False, directed=False)\n",
    "\n",
    "    for n in centers.keys():\n",
    "        g.add_node(n, color=colors[centers[n][0]], title=str(len(centers[n][1])), size=10* np.log(len(centers[n][1])+3))\n",
    "        for t in centers[n][1]:\n",
    "            g.add_node(t, label=' ', title=t, hidden=True)\n",
    "    #         g.add_edge(n,t, hidden=True)\n",
    "\n",
    "    for _,source, target, _ in edges:\n",
    "        filtered_source, filtered_target = filter_name(source), filter_name(target)\n",
    "        from_count = len([t for t in from_to_edges[filtered_source] if t == filtered_target])\n",
    "        to_count = 0\n",
    "        if filtered_target in from_to_edges:\n",
    "            to_count = len([t for t in from_to_edges[filtered_target] if t == filtered_source])\n",
    "        g.add_edge(filter_name(source), filter_name(target), width = 3*np.log(to_count+from_count+1), title=from_count+to_count)\n",
    "    # for n in nodes.keys():\n",
    "    #     g.add_node(n, color=colors[nodes[n][1]])\n",
    "    g.show_buttons()\n",
    "    g.show(f'Notebook graphs\\\\Web centered\\\\web-centered-graph{idx}.html')"
   ]
  },
  {
   "cell_type": "code",
   "execution_count": 9,
   "id": "513dacca",
   "metadata": {},
   "outputs": [
    {
     "name": "stdout",
     "output_type": "stream",
     "text": [
      "AAAA\n",
      "AAAA\n"
     ]
    }
   ],
   "source": [
    "print(\"AAAA\")"
   ]
  }
 ],
 "metadata": {
  "kernelspec": {
   "display_name": "Python 3 (ipykernel)",
   "language": "python",
   "name": "python3"
  },
  "language_info": {
   "codemirror_mode": {
    "name": "ipython",
    "version": 3
   },
   "file_extension": ".py",
   "mimetype": "text/x-python",
   "name": "python",
   "nbconvert_exporter": "python",
   "pygments_lexer": "ipython3",
   "version": "3.8.12"
  }
 },
 "nbformat": 4,
 "nbformat_minor": 5
}
